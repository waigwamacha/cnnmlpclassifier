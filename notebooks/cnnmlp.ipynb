{
 "cells": [
  {
   "cell_type": "markdown",
   "id": "c01bc392",
   "metadata": {},
   "source": [
    "### CNNMLP Implementation\n",
    "- Based on [Joo et al., 2023](https://www.nature.com/articles/s41598-023-49514-2#)"
   ]
  },
  {
   "cell_type": "code",
   "execution_count": null,
   "id": "5c15b542",
   "metadata": {},
   "outputs": [
    {
     "name": "stdout",
     "output_type": "stream",
     "text": [
      "PyTorch version: 2.7.1+cu128\n",
      "torchvision version: 0.22.1+cu128\n"
     ]
    }
   ],
   "source": [
    "import sys, warnings\n",
    "\n",
    "import matplotlib.pyplot as plt\n",
    "import pandas as pd\n",
    "\n",
    "import torch, gc\n",
    "from torch import nn\n",
    "from torch.utils.data import DataLoader\n",
    "from torchinfo import summary\n",
    "\n",
    "from tqdm.auto import tqdm\n",
    "from pyprojroot import here\n",
    "\n",
    "sys.path.insert(0, f\"{here()}/src\")\n",
    "\n",
    "from cnn_classifier import CNNMLP\n",
    "from dataset import MRIDataset\n",
    "\n",
    "\n",
    "warnings.simplefilter(action='ignore', category=FutureWarning)\n",
    "pd.set_option('mode.chained_assignment', None)\n",
    "pd.set_option('display.max_columns', None)\n",
    "pd.reset_option(\"mode.chained_assignment\")"
   ]
  },
  {
   "cell_type": "code",
   "execution_count": 2,
   "id": "c72d5c5f",
   "metadata": {},
   "outputs": [
    {
     "name": "stdout",
     "output_type": "stream",
     "text": [
      "Using device: cuda\n"
     ]
    }
   ],
   "source": [
    "device = \"cuda\" if torch.cuda.is_available() else \"cpu\"\n",
    "print(f\"Using device: {device}\")"
   ]
  },
  {
   "cell_type": "code",
   "execution_count": 3,
   "id": "3fa3a00b",
   "metadata": {},
   "outputs": [],
   "source": [
    "gc.collect()\n",
    "torch.cuda.empty_cache()"
   ]
  },
  {
   "cell_type": "code",
   "execution_count": 4,
   "id": "b3fa8903",
   "metadata": {},
   "outputs": [
    {
     "name": "stdout",
     "output_type": "stream",
     "text": [
      "Tue Aug  5 13:34:57 2025       \n",
      "+-----------------------------------------------------------------------------------------+\n",
      "| NVIDIA-SMI 575.64.03              Driver Version: 575.64.03      CUDA Version: 12.9     |\n",
      "|-----------------------------------------+------------------------+----------------------+\n",
      "| GPU  Name                 Persistence-M | Bus-Id          Disp.A | Volatile Uncorr. ECC |\n",
      "| Fan  Temp   Perf          Pwr:Usage/Cap |           Memory-Usage | GPU-Util  Compute M. |\n",
      "|                                         |                        |               MIG M. |\n",
      "|=========================================+========================+======================|\n",
      "|   0  NVIDIA GeForce RTX 5090        Off |   00000000:01:00.0  On |                  N/A |\n",
      "| 30%   41C    P8             57W /  575W |     723MiB /  32607MiB |      7%      Default |\n",
      "|                                         |                        |                  N/A |\n",
      "+-----------------------------------------+------------------------+----------------------+\n",
      "                                                                                         \n",
      "+-----------------------------------------------------------------------------------------+\n",
      "| Processes:                                                                              |\n",
      "|  GPU   GI   CI              PID   Type   Process name                        GPU Memory |\n",
      "|        ID   ID                                                               Usage      |\n",
      "|=========================================================================================|\n",
      "|    0   N/A  N/A            2745      G   /usr/lib/xorg/Xorg                      268MiB |\n",
      "|    0   N/A  N/A            2976      G   /usr/bin/gnome-shell                    148MiB |\n",
      "|    0   N/A  N/A            3811      G   /usr/share/code/code                    241MiB |\n",
      "+-----------------------------------------------------------------------------------------+\n"
     ]
    }
   ],
   "source": [
    "!nvidia-smi"
   ]
  },
  {
   "cell_type": "code",
   "execution_count": 5,
   "id": "89e9fb4a",
   "metadata": {},
   "outputs": [],
   "source": [
    "proj_dir = here()"
   ]
  },
  {
   "cell_type": "code",
   "execution_count": 6,
   "id": "aeb1b01b",
   "metadata": {},
   "outputs": [],
   "source": [
    "torch.manual_seed(42)\n",
    "cnnmodel = CNN1(input_shape=1).to(device)\n",
    "#base_model"
   ]
  },
  {
   "cell_type": "code",
   "execution_count": 7,
   "id": "ab63a54f",
   "metadata": {},
   "outputs": [
    {
     "data": {
      "text/plain": [
       "==========================================================================================\n",
       "Layer (type:depth-idx)                   Output Shape              Param #\n",
       "==========================================================================================\n",
       "CNN1                                     [4, 512, 3, 4, 3]         --\n",
       "├─Conv3d: 1-1                            [4, 32, 119, 143, 119]    896\n",
       "├─BatchNorm3d: 1-2                       [4, 32, 119, 143, 119]    64\n",
       "├─ReLU: 1-3                              [4, 32, 119, 143, 119]    --\n",
       "├─MaxPool3d: 1-4                         [4, 32, 59, 71, 59]       --\n",
       "├─Conv3d: 1-5                            [4, 64, 59, 71, 59]       55,360\n",
       "├─BatchNorm3d: 1-6                       [4, 64, 59, 71, 59]       128\n",
       "├─ReLU: 1-7                              [4, 64, 59, 71, 59]       --\n",
       "├─MaxPool3d: 1-8                         [4, 64, 29, 35, 29]       --\n",
       "├─Conv3d: 1-9                            [4, 128, 29, 35, 29]      221,312\n",
       "├─BatchNorm3d: 1-10                      [4, 128, 29, 35, 29]      256\n",
       "├─ReLU: 1-11                             [4, 128, 29, 35, 29]      --\n",
       "├─MaxPool3d: 1-12                        [4, 128, 14, 17, 14]      --\n",
       "├─Conv3d: 1-13                           [4, 256, 14, 17, 14]      884,992\n",
       "├─BatchNorm3d: 1-14                      [4, 256, 14, 17, 14]      512\n",
       "├─ReLU: 1-15                             [4, 256, 14, 17, 14]      --\n",
       "├─MaxPool3d: 1-16                        [4, 256, 7, 8, 7]         --\n",
       "├─Conv3d: 1-17                           [4, 512, 7, 8, 7]         3,539,456\n",
       "├─BatchNorm3d: 1-18                      [4, 512, 7, 8, 7]         1,024\n",
       "├─ReLU: 1-19                             [4, 512, 7, 8, 7]         --\n",
       "├─MaxPool3d: 1-20                        [4, 512, 3, 4, 3]         --\n",
       "==========================================================================================\n",
       "Total params: 4,704,000\n",
       "Trainable params: 4,704,000\n",
       "Non-trainable params: 0\n",
       "Total mult-adds (Units.GIGABYTES): 105.39\n",
       "==========================================================================================\n",
       "Input size (MB): 33.97\n",
       "Forward/backward pass size (MB): 5468.15\n",
       "Params size (MB): 18.82\n",
       "Estimated Total Size (MB): 5520.93\n",
       "=========================================================================================="
      ]
     },
     "execution_count": 7,
     "metadata": {},
     "output_type": "execute_result"
    }
   ],
   "source": [
    "summary(model=cnnmodel, input_size=(4, 1, 121, 145, 121))"
   ]
  },
  {
   "cell_type": "code",
   "execution_count": 8,
   "id": "29cd73fd",
   "metadata": {},
   "outputs": [],
   "source": [
    "mlpmodel = MLPSex(input_shape=1).to(device)"
   ]
  },
  {
   "cell_type": "code",
   "execution_count": 9,
   "id": "ca29a61d",
   "metadata": {},
   "outputs": [
    {
     "data": {
      "text/plain": [
       "==========================================================================================\n",
       "Layer (type:depth-idx)                   Output Shape              Param #\n",
       "==========================================================================================\n",
       "MLPSex                                   [4, 8]                    --\n",
       "├─Linear: 1-1                            [4, 32]                   64\n",
       "├─ReLU: 1-2                              [4, 32]                   --\n",
       "├─Linear: 1-3                            [4, 16]                   528\n",
       "├─ReLU: 1-4                              [4, 16]                   --\n",
       "├─Linear: 1-5                            [4, 8]                    136\n",
       "==========================================================================================\n",
       "Total params: 728\n",
       "Trainable params: 728\n",
       "Non-trainable params: 0\n",
       "Total mult-adds (Units.MEGABYTES): 0.00\n",
       "==========================================================================================\n",
       "Input size (MB): 0.00\n",
       "Forward/backward pass size (MB): 0.00\n",
       "Params size (MB): 0.00\n",
       "Estimated Total Size (MB): 0.00\n",
       "=========================================================================================="
      ]
     },
     "execution_count": 9,
     "metadata": {},
     "output_type": "execute_result"
    }
   ],
   "source": [
    "summary(model=mlpmodel, input_size=(4, 1))"
   ]
  },
  {
   "cell_type": "code",
   "execution_count": 10,
   "id": "87e2c92a",
   "metadata": {},
   "outputs": [],
   "source": [
    "model = CNNMLP(cnnmodel=cnnmodel, mlpmodel=mlpmodel, combined_dim=18440).to(device)"
   ]
  },
  {
   "cell_type": "code",
   "execution_count": 11,
   "id": "b9414379",
   "metadata": {},
   "outputs": [
    {
     "data": {
      "text/plain": [
       "=================================================================\n",
       "Layer (type:depth-idx)                   Param #\n",
       "=================================================================\n",
       "CNNMLP                                   --\n",
       "├─CNN1: 1-1                              --\n",
       "│    └─Conv3d: 2-1                       896\n",
       "│    └─BatchNorm3d: 2-2                  64\n",
       "│    └─ReLU: 2-3                         --\n",
       "│    └─MaxPool3d: 2-4                    --\n",
       "│    └─Conv3d: 2-5                       55,360\n",
       "│    └─BatchNorm3d: 2-6                  128\n",
       "│    └─ReLU: 2-7                         --\n",
       "│    └─MaxPool3d: 2-8                    --\n",
       "│    └─Conv3d: 2-9                       221,312\n",
       "│    └─BatchNorm3d: 2-10                 256\n",
       "│    └─ReLU: 2-11                        --\n",
       "│    └─MaxPool3d: 2-12                   --\n",
       "│    └─Conv3d: 2-13                      884,992\n",
       "│    └─BatchNorm3d: 2-14                 512\n",
       "│    └─ReLU: 2-15                        --\n",
       "│    └─MaxPool3d: 2-16                   --\n",
       "│    └─Conv3d: 2-17                      3,539,456\n",
       "│    └─BatchNorm3d: 2-18                 1,024\n",
       "│    └─ReLU: 2-19                        --\n",
       "│    └─MaxPool3d: 2-20                   --\n",
       "├─MLPSex: 1-2                            --\n",
       "│    └─Linear: 2-21                      64\n",
       "│    └─ReLU: 2-22                        --\n",
       "│    └─Linear: 2-23                      528\n",
       "│    └─ReLU: 2-24                        --\n",
       "│    └─Linear: 2-25                      136\n",
       "├─Sequential: 1-3                        --\n",
       "│    └─Linear: 2-26                      18,883,584\n",
       "│    └─ReLU: 2-27                        --\n",
       "│    └─Dropout: 2-28                     --\n",
       "│    └─Linear: 2-29                      262,400\n",
       "│    └─ReLU: 2-30                        --\n",
       "│    └─Dropout: 2-31                     --\n",
       "│    └─Linear: 2-32                      257\n",
       "=================================================================\n",
       "Total params: 23,850,969\n",
       "Trainable params: 23,850,969\n",
       "Non-trainable params: 0\n",
       "================================================================="
      ]
     },
     "execution_count": 11,
     "metadata": {},
     "output_type": "execute_result"
    }
   ],
   "source": [
    "summary(model)"
   ]
  },
  {
   "cell_type": "code",
   "execution_count": 12,
   "id": "39a8d31e",
   "metadata": {},
   "outputs": [],
   "source": [
    "#neuralnet = NeuralNetwork(input_shape=1, hidden_units=32).to(device)"
   ]
  },
  {
   "cell_type": "code",
   "execution_count": 13,
   "id": "3425ac82",
   "metadata": {},
   "outputs": [],
   "source": [
    "#summary(model=neuralnet)"
   ]
  },
  {
   "cell_type": "markdown",
   "id": "131d213c",
   "metadata": {},
   "source": [
    "#### Load Training Data"
   ]
  },
  {
   "cell_type": "code",
   "execution_count": 14,
   "id": "f47cbbdd",
   "metadata": {},
   "outputs": [],
   "source": [
    "train_data_directory = \"/home/murage/Documents/data/train/\" #\"/home/Murage/BrainAgefMRI/data/mri/\"\n",
    "validation_data_directory = \"/home/murage/Documents/data/validation/\" \n",
    "pheno_directory = \"/home/murage/Documents/data/mri_phenotype_partitioned.csv\" #\"/shared/uher/Murage/BrainAgefMRI/data/mri_phenotype_partitioned.csv\" "
   ]
  },
  {
   "cell_type": "code",
   "execution_count": 15,
   "id": "7888d3e6",
   "metadata": {},
   "outputs": [],
   "source": [
    "df = pd.read_csv(pheno_directory)\n",
    "df['filename'] = df['filename'] + '.gz'\n",
    "df['filename'] = df['filename'].str.strip()"
   ]
  },
  {
   "cell_type": "code",
   "execution_count": 16,
   "id": "91571164",
   "metadata": {},
   "outputs": [
    {
     "name": "stdout",
     "output_type": "stream",
     "text": [
      " Train N: 2312 | Validation N: 570\n"
     ]
    }
   ],
   "source": [
    "# Save train and validation filenames into list\n",
    "train = df[df['split'] == 'TRAINING']\n",
    "validation = df[df['split'] == 'VALIDATE']\n",
    "train_ids = train['filename'].to_list()\n",
    "validation_ids = validation['filename'].to_list()\n",
    "\n",
    "print(f\" Train N: {len(train_ids)} | Validation N: {len(validation_ids)}\") "
   ]
  },
  {
   "cell_type": "code",
   "execution_count": 17,
   "id": "9f0efea2",
   "metadata": {},
   "outputs": [
    {
     "name": "stdout",
     "output_type": "stream",
     "text": [
      "2312\n"
     ]
    }
   ],
   "source": [
    "!ls /home/murage/Documents/data/train/ | wc -l"
   ]
  },
  {
   "cell_type": "code",
   "execution_count": 18,
   "id": "eaabfe81",
   "metadata": {},
   "outputs": [
    {
     "name": "stdout",
     "output_type": "stream",
     "text": [
      "570\n"
     ]
    }
   ],
   "source": [
    "!ls /home/murage/Documents/data/validation/ | wc -l"
   ]
  },
  {
   "cell_type": "code",
   "execution_count": 19,
   "id": "a6ef581c",
   "metadata": {},
   "outputs": [],
   "source": [
    "train = train[['filename', 'scan_age', 'sex', 'project']]\n",
    "validation = validation[['filename', 'scan_age', 'sex', 'project']]"
   ]
  },
  {
   "cell_type": "code",
   "execution_count": 20,
   "id": "660d5ce2",
   "metadata": {},
   "outputs": [
    {
     "data": {
      "application/vnd.microsoft.datawrangler.viewer.v0+json": {
       "columns": [
        {
         "name": "index",
         "rawType": "int64",
         "type": "integer"
        },
        {
         "name": "filename",
         "rawType": "object",
         "type": "string"
        },
        {
         "name": "scan_age",
         "rawType": "float64",
         "type": "float"
        },
        {
         "name": "sex",
         "rawType": "object",
         "type": "string"
        },
        {
         "name": "project",
         "rawType": "object",
         "type": "string"
        }
       ],
       "ref": "c8ae0e9b-95cd-4d71-a9f8-318790fc12cb",
       "rows": [
        [
         "2426",
         "PING-sub-P0268.nii.gz",
         "19.83333333333333",
         "Female",
         "PING"
        ]
       ],
       "shape": {
        "columns": 4,
        "rows": 1
       }
      },
      "text/html": [
       "<div>\n",
       "<style scoped>\n",
       "    .dataframe tbody tr th:only-of-type {\n",
       "        vertical-align: middle;\n",
       "    }\n",
       "\n",
       "    .dataframe tbody tr th {\n",
       "        vertical-align: top;\n",
       "    }\n",
       "\n",
       "    .dataframe thead th {\n",
       "        text-align: right;\n",
       "    }\n",
       "</style>\n",
       "<table border=\"1\" class=\"dataframe\">\n",
       "  <thead>\n",
       "    <tr style=\"text-align: right;\">\n",
       "      <th></th>\n",
       "      <th>filename</th>\n",
       "      <th>scan_age</th>\n",
       "      <th>sex</th>\n",
       "      <th>project</th>\n",
       "    </tr>\n",
       "  </thead>\n",
       "  <tbody>\n",
       "    <tr>\n",
       "      <th>2426</th>\n",
       "      <td>PING-sub-P0268.nii.gz</td>\n",
       "      <td>19.833333</td>\n",
       "      <td>Female</td>\n",
       "      <td>PING</td>\n",
       "    </tr>\n",
       "  </tbody>\n",
       "</table>\n",
       "</div>"
      ],
      "text/plain": [
       "                   filename   scan_age     sex project\n",
       "2426  PING-sub-P0268.nii.gz  19.833333  Female    PING"
      ]
     },
     "execution_count": 20,
     "metadata": {},
     "output_type": "execute_result"
    }
   ],
   "source": [
    "train.sample()"
   ]
  },
  {
   "cell_type": "markdown",
   "id": "c5902cd7",
   "metadata": {},
   "source": [
    "#### Train DataLoader"
   ]
  },
  {
   "cell_type": "code",
   "execution_count": 21,
   "id": "761d70ac",
   "metadata": {},
   "outputs": [
    {
     "ename": "TypeError",
     "evalue": "MRIDataset.__init__() got an unexpected keyword argument 'sex_col'",
     "output_type": "error",
     "traceback": [
      "\u001b[31m---------------------------------------------------------------------------\u001b[39m",
      "\u001b[31mTypeError\u001b[39m                                 Traceback (most recent call last)",
      "\u001b[36mCell\u001b[39m\u001b[36m \u001b[39m\u001b[32mIn[21]\u001b[39m\u001b[32m, line 1\u001b[39m\n\u001b[32m----> \u001b[39m\u001b[32m1\u001b[39m train_dataset = \u001b[43mMRIDataset\u001b[49m\u001b[43m(\u001b[49m\u001b[43mdf\u001b[49m\u001b[43m=\u001b[49m\u001b[43mtrain\u001b[49m\u001b[43m,\u001b[49m\u001b[43m \u001b[49m\u001b[43mid_col\u001b[49m\u001b[43m=\u001b[49m\u001b[33;43m'\u001b[39;49m\u001b[33;43mfilename\u001b[39;49m\u001b[33;43m'\u001b[39;49m\u001b[43m,\u001b[49m\u001b[43m \u001b[49m\u001b[43mtarget_col\u001b[49m\u001b[43m=\u001b[49m\u001b[33;43m'\u001b[39;49m\u001b[33;43mscan_age\u001b[39;49m\u001b[33;43m'\u001b[39;49m\u001b[43m,\u001b[49m\u001b[43m \u001b[49m\u001b[43msex_col\u001b[49m\u001b[43m=\u001b[49m\u001b[33;43m'\u001b[39;49m\u001b[33;43msex\u001b[39;49m\u001b[33;43m'\u001b[39;49m\u001b[43m,\u001b[49m\u001b[43m \u001b[49m\u001b[43mroot_dir\u001b[49m\u001b[43m=\u001b[49m\u001b[43mtrain_data_directory\u001b[49m\u001b[43m)\u001b[49m\n\u001b[32m      2\u001b[39m validation_dataset = MRIDataset(df=validation, id_col=\u001b[33m'\u001b[39m\u001b[33mfilename\u001b[39m\u001b[33m'\u001b[39m, target_col=\u001b[33m'\u001b[39m\u001b[33mscan_age\u001b[39m\u001b[33m'\u001b[39m, sex_col=\u001b[33m'\u001b[39m\u001b[33msex\u001b[39m\u001b[33m'\u001b[39m, root_dir=validation_data_directory)\n",
      "\u001b[31mTypeError\u001b[39m: MRIDataset.__init__() got an unexpected keyword argument 'sex_col'"
     ]
    }
   ],
   "source": [
    "train_dataset = MRIDataset(df=train, id_col='filename', target_col='scan_age', sex_col='sex', root_dir=train_data_directory)\n",
    "validation_dataset = MRIDataset(df=validation, id_col='filename', target_col='scan_age', sex_col='sex', root_dir=validation_data_directory)"
   ]
  },
  {
   "cell_type": "code",
   "execution_count": null,
   "id": "34ba47c3",
   "metadata": {},
   "outputs": [
    {
     "name": "stdout",
     "output_type": "stream",
     "text": [
      "Index: 0, tensor([0.]), Image shape: torch.Size([1, 121, 145, 121]), Label: tensor([9.4884])\n",
      "Index: 1, tensor([1.]), Image shape: torch.Size([1, 121, 145, 121]), Label: tensor([11.8236])\n",
      "Index: 2, tensor([0.]), Image shape: torch.Size([1, 121, 145, 121]), Label: tensor([16.4967])\n",
      "Index: 3, tensor([0.]), Image shape: torch.Size([1, 121, 145, 121]), Label: tensor([13.4637])\n",
      "Index: 4, tensor([0.]), Image shape: torch.Size([1, 121, 145, 121]), Label: tensor([12.9977])\n"
     ]
    }
   ],
   "source": [
    "for i in range(5):\n",
    "    try:\n",
    "        image, sex, label = train_dataset[i]\n",
    "        print(f\"Index: {i}, {sex}, Image shape: {image.shape if hasattr(image, 'shape') else type(image)}, Label: {label}\")\n",
    "    except KeyError:\n",
    "        print(f\"Index: {i}, {sex}, Image shape: {image.shape if hasattr(image, 'shape') else type(image)}, Label: {label}\")\n",
    "        #print(f\"Index {i}: not found\")"
   ]
  },
  {
   "cell_type": "code",
   "execution_count": null,
   "id": "3a385b63",
   "metadata": {},
   "outputs": [],
   "source": [
    "train_dataloader = DataLoader(train_dataset, batch_size=8, shuffle=True, pin_memory=True)\n",
    "validation_dataloader = DataLoader(validation_dataset, batch_size=8, shuffle=False, pin_memory=True)"
   ]
  },
  {
   "cell_type": "code",
   "execution_count": null,
   "id": "48dfa12b",
   "metadata": {},
   "outputs": [],
   "source": [
    "optimizer = torch.optim.Adam(cnnmodel.parameters(), lr=0.001)"
   ]
  },
  {
   "cell_type": "code",
   "execution_count": null,
   "id": "feab0dd1",
   "metadata": {},
   "outputs": [],
   "source": [
    "#cnnmodel, tracking_loss = train_and_select_best_model(model=model, train_dataloader=train_dataloader, \n",
    "#                    validation_dataloader=validation_dataloader, optimizer=optimizer, loss=mae, device=device, num_epochs=20, name='cnn')"
   ]
  },
  {
   "cell_type": "code",
   "execution_count": null,
   "id": "a85748fe",
   "metadata": {},
   "outputs": [],
   "source": [
    "image, sex, label = next(iter(train_dataloader))\n",
    "#print(f'{image.shape}, {sex}: {label}')"
   ]
  },
  {
   "cell_type": "code",
   "execution_count": null,
   "id": "210b0d6c",
   "metadata": {},
   "outputs": [
    {
     "data": {
      "application/vnd.jupyter.widget-view+json": {
       "model_id": "7e25f015144b4bda8ac043f8090bc95c",
       "version_major": 2,
       "version_minor": 0
      },
      "text/plain": [
       "  0%|          | 0/20 [00:00<?, ?it/s]"
      ]
     },
     "metadata": {},
     "output_type": "display_data"
    },
    {
     "name": "stdout",
     "output_type": "stream",
     "text": [
      "Epoch: 1\n",
      "-------\n",
      "Train Loss: 4.9594 | Validation MAE: 5.7834 \n",
      "Model saved with validation loss: 5.7834\n",
      "Epoch: 2\n",
      "-------\n",
      "Train Loss: 3.7506 | Validation MAE: 3.4826 \n",
      "Model saved with validation loss: 3.4826\n",
      "Epoch: 3\n",
      "-------\n",
      "Train Loss: 3.7128 | Validation MAE: 3.3067 \n",
      "Model saved with validation loss: 3.3067\n",
      "Epoch: 4\n",
      "-------\n",
      "Train Loss: 3.5186 | Validation MAE: 4.9975 \n",
      "Epoch: 5\n",
      "-------\n",
      "Train Loss: 3.6267 | Validation MAE: 2.6551 \n",
      "Model saved with validation loss: 2.6551\n",
      "Epoch: 6\n",
      "-------\n",
      "Train Loss: 3.4109 | Validation MAE: 5.7232 \n",
      "Epoch: 7\n",
      "-------\n",
      "Train Loss: 3.4183 | Validation MAE: 4.2799 \n",
      "Epoch: 8\n",
      "-------\n",
      "Train Loss: 3.4536 | Validation MAE: 7.2108 \n",
      "Epoch: 9\n",
      "-------\n",
      "Train Loss: 3.3827 | Validation MAE: 8.0790 \n",
      "Epoch: 10\n",
      "-------\n",
      "Train Loss: 3.3277 | Validation MAE: 11.8034 \n",
      "Epoch: 11\n",
      "-------\n",
      "Train Loss: 3.3299 | Validation MAE: 5.3339 \n",
      "Early stopping at epoch 11\n"
     ]
    }
   ],
   "source": [
    "model, tracking_loss = train_model(\n",
    "    model=model, train_dataloader=train_dataloader, validation_dataloader=validation_dataloader, optimizer=optimizer,\n",
    "    device=device, num_epochs=20, name='cnmlp'\n",
    ")"
   ]
  },
  {
   "cell_type": "code",
   "execution_count": null,
   "id": "c6b40f41",
   "metadata": {},
   "outputs": [
    {
     "data": {
      "image/png": "[encoded data removed]",
      "text/plain": [
       "<Figure size 1000x500 with 1 Axes>"
      ]
     },
     "metadata": {},
     "output_type": "display_data"
    }
   ],
   "source": [
    "tracking_loss = pd.Series(tracking_loss)\n",
    "\n",
    "plt.figure(figsize=(10,5))\n",
    "tracking_loss.plot(alpha=0.2, label='loss')\n",
    "tracking_loss.rolling(center=True, min_periods=1, window=10).mean().plot(\n",
    "    label=\"loss (moving avg)\")\n",
    "\n",
    "plt.xlabel(\"(Epoch, Batch)\")\n",
    "plt.ylabel(\"loss\")\n",
    "plt.legend(loc=0)\n",
    "plt.show()"
   ]
  },
  {
   "cell_type": "code",
   "execution_count": null,
   "id": "93e39e87",
   "metadata": {},
   "outputs": [],
   "source": []
  }
 ],
 "metadata": {
  "kernelspec": {
   "display_name": "venv",
   "language": "python",
   "name": "python3"
  },
  "language_info": {
   "codemirror_mode": {
    "name": "ipython",
    "version": 3
   },
   "file_extension": ".py",
   "mimetype": "text/x-python",
   "name": "python",
   "nbconvert_exporter": "python",
   "pygments_lexer": "ipython3",
   "version": "3.12.3"
  }
 },
 "nbformat": 4,
 "nbformat_minor": 5
}
