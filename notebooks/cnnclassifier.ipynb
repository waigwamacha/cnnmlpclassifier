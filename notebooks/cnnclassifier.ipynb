{
 "cells": [
  {
   "cell_type": "markdown",
   "id": "c01bc392",
   "metadata": {},
   "source": [
    "### CNNMLP Implementation\n",
    "- Based on [Joo et al., 2023](https://www.nature.com/articles/s41598-023-49514-2#)"
   ]
  },
  {
   "cell_type": "code",
   "execution_count": null,
   "id": "5c15b542",
   "metadata": {},
   "outputs": [
    {
     "name": "stdout",
     "output_type": "stream",
     "text": [
      "PyTorch version: 2.7.1+cu128\n",
      "torchvision version: 0.22.1+cu128\n"
     ]
    }
   ],
   "source": [
    "import sys, warnings\n",
    "\n",
    "import matplotlib.pyplot as plt\n",
    "import numpy as np\n",
    "import pandas as pd\n",
    "\n",
    "import seaborn as sns\n",
    "import torch, gc\n",
    "from torch import nn\n",
    "from torch.utils.data import DataLoader, WeightedRandomSampler\n",
    "from torchinfo import summary\n",
    "\n",
    "from pyprojroot import here\n",
    "\n",
    "sys.path.insert(0, f\"{here()}/src\")\n",
    "\n",
    "from cnn_classifier import CNNMLP\n",
    "from dataset import MRIDataset\n",
    "from train import train_classifiermodel\n",
    "\n",
    "warnings.simplefilter(action='ignore', category=FutureWarning)\n",
    "pd.set_option('mode.chained_assignment', None)\n",
    "pd.set_option('display.max_columns', None)\n",
    "pd.reset_option(\"mode.chained_assignment\")"
   ]
  },
  {
   "cell_type": "code",
   "execution_count": 2,
   "id": "c72d5c5f",
   "metadata": {},
   "outputs": [
    {
     "name": "stdout",
     "output_type": "stream",
     "text": [
      "Using device: cuda\n"
     ]
    }
   ],
   "source": [
    "device = \"cuda\" if torch.cuda.is_available() else \"cpu\"\n",
    "print(f\"Using device: {device}\")"
   ]
  },
  {
   "cell_type": "code",
   "execution_count": 3,
   "id": "3fa3a00b",
   "metadata": {},
   "outputs": [],
   "source": [
    "gc.collect()\n",
    "torch.cuda.empty_cache()"
   ]
  },
  {
   "cell_type": "code",
   "execution_count": 4,
   "id": "b3fa8903",
   "metadata": {},
   "outputs": [
    {
     "name": "stdout",
     "output_type": "stream",
     "text": [
      "Wed Aug  6 15:09:20 2025       \n",
      "+-----------------------------------------------------------------------------------------+\n",
      "| NVIDIA-SMI 575.64.03              Driver Version: 575.64.03      CUDA Version: 12.9     |\n",
      "|-----------------------------------------+------------------------+----------------------+\n",
      "| GPU  Name                 Persistence-M | Bus-Id          Disp.A | Volatile Uncorr. ECC |\n",
      "| Fan  Temp   Perf          Pwr:Usage/Cap |           Memory-Usage | GPU-Util  Compute M. |\n",
      "|                                         |                        |               MIG M. |\n",
      "|=========================================+========================+======================|\n",
      "|   0  NVIDIA GeForce RTX 5090        Off |   00000000:01:00.0  On |                  N/A |\n",
      "| 30%   36C    P5             62W /  575W |    9004MiB /  32607MiB |     24%      Default |\n",
      "|                                         |                        |                  N/A |\n",
      "+-----------------------------------------+------------------------+----------------------+\n",
      "                                                                                         \n",
      "+-----------------------------------------------------------------------------------------+\n",
      "| Processes:                                                                              |\n",
      "|  GPU   GI   CI              PID   Type   Process name                        GPU Memory |\n",
      "|        ID   ID                                                               Usage      |\n",
      "|=========================================================================================|\n",
      "|    0   N/A  N/A            7014      G   /usr/lib/xorg/Xorg                      296MiB |\n",
      "|    0   N/A  N/A            7412      G   /usr/bin/gnome-shell                    148MiB |\n",
      "|    0   N/A  N/A            8237      G   /usr/share/code/code                    323MiB |\n",
      "|    0   N/A  N/A            9258      G   /usr/bin/nautilus                        18MiB |\n",
      "|    0   N/A  N/A            9376      C   .../repos/cnnmlp/venv/bin/python       4822MiB |\n",
      "|    0   N/A  N/A            9568      C   .../repos/cnnmlp/venv/bin/python       3314MiB |\n",
      "+-----------------------------------------------------------------------------------------+\n"
     ]
    }
   ],
   "source": [
    "!nvidia-smi"
   ]
  },
  {
   "cell_type": "code",
   "execution_count": 5,
   "id": "89e9fb4a",
   "metadata": {},
   "outputs": [],
   "source": [
    "proj_dir = here()"
   ]
  },
  {
   "cell_type": "code",
   "execution_count": 6,
   "id": "87e2c92a",
   "metadata": {},
   "outputs": [],
   "source": [
    "model = CNNMLP(input_shape=1, flattened_dim=18432).to(device)"
   ]
  },
  {
   "cell_type": "code",
   "execution_count": 7,
   "id": "b9414379",
   "metadata": {},
   "outputs": [
    {
     "data": {
      "text/plain": [
       "=================================================================\n",
       "Layer (type:depth-idx)                   Param #\n",
       "=================================================================\n",
       "CNNMLP                                   --\n",
       "├─Sequential: 1-1                        --\n",
       "│    └─Conv3d: 2-1                       896\n",
       "│    └─BatchNorm3d: 2-2                  64\n",
       "│    └─ReLU: 2-3                         --\n",
       "│    └─MaxPool3d: 2-4                    --\n",
       "│    └─Conv3d: 2-5                       55,360\n",
       "│    └─BatchNorm3d: 2-6                  128\n",
       "│    └─ReLU: 2-7                         --\n",
       "│    └─MaxPool3d: 2-8                    --\n",
       "│    └─Conv3d: 2-9                       221,312\n",
       "│    └─BatchNorm3d: 2-10                 256\n",
       "│    └─ReLU: 2-11                        --\n",
       "│    └─MaxPool3d: 2-12                   --\n",
       "│    └─Conv3d: 2-13                      884,992\n",
       "│    └─BatchNorm3d: 2-14                 512\n",
       "│    └─ReLU: 2-15                        --\n",
       "│    └─MaxPool3d: 2-16                   --\n",
       "│    └─Conv3d: 2-17                      3,539,456\n",
       "│    └─BatchNorm3d: 2-18                 1,024\n",
       "│    └─ReLU: 2-19                        --\n",
       "│    └─MaxPool3d: 2-20                   --\n",
       "├─Sequential: 1-2                        --\n",
       "│    └─Linear: 2-21                      18,875,392\n",
       "│    └─ReLU: 2-22                        --\n",
       "│    └─Dropout: 2-23                     --\n",
       "│    └─Linear: 2-24                      524,800\n",
       "│    └─ReLU: 2-25                        --\n",
       "│    └─Dropout: 2-26                     --\n",
       "│    └─Linear: 2-27                      513\n",
       "├─Sequential: 1-3                        --\n",
       "│    └─Linear: 2-28                      18,875,392\n",
       "│    └─ReLU: 2-29                        --\n",
       "│    └─Dropout: 2-30                     --\n",
       "│    └─Linear: 2-31                      524,800\n",
       "│    └─ReLU: 2-32                        --\n",
       "│    └─Dropout: 2-33                     --\n",
       "│    └─Linear: 2-34                      5,130\n",
       "=================================================================\n",
       "Total params: 43,510,027\n",
       "Trainable params: 43,510,027\n",
       "Non-trainable params: 0\n",
       "================================================================="
      ]
     },
     "execution_count": 7,
     "metadata": {},
     "output_type": "execute_result"
    }
   ],
   "source": [
    "summary(model)"
   ]
  },
  {
   "cell_type": "code",
   "execution_count": 8,
   "id": "39a8d31e",
   "metadata": {},
   "outputs": [],
   "source": [
    "#neuralnet = NeuralNetwork(input_shape=1, hidden_units=32).to(device)"
   ]
  },
  {
   "cell_type": "code",
   "execution_count": 9,
   "id": "3425ac82",
   "metadata": {},
   "outputs": [],
   "source": [
    "#summary(model=neuralnet)"
   ]
  },
  {
   "cell_type": "markdown",
   "id": "131d213c",
   "metadata": {},
   "source": [
    "#### Load Training Data"
   ]
  },
  {
   "cell_type": "code",
   "execution_count": 10,
   "id": "f47cbbdd",
   "metadata": {},
   "outputs": [],
   "source": [
    "train_data_directory = \"/home/murage/Documents/data/train/\" #\"/home/Murage/BrainAgefMRI/data/mri/\"\n",
    "validation_data_directory = \"/home/murage/Documents/data/validation/\" \n",
    "pheno_directory = \"/home/murage/Documents/data/mri_phenotype_partitioned.csv\" #\"/shared/uher/Murage/BrainAgefMRI/data/mri_phenotype_partitioned.csv\" "
   ]
  },
  {
   "cell_type": "code",
   "execution_count": 11,
   "id": "7888d3e6",
   "metadata": {},
   "outputs": [],
   "source": [
    "df = pd.read_csv(pheno_directory)\n",
    "df['filename'] = df['filename'] + '.gz'\n",
    "df['filename'] = df['filename'].str.strip()"
   ]
  },
  {
   "cell_type": "markdown",
   "id": "bff426ec",
   "metadata": {},
   "source": [
    "#### Create classes for classification"
   ]
  },
  {
   "cell_type": "code",
   "execution_count": 12,
   "id": "66947625",
   "metadata": {},
   "outputs": [
    {
     "data": {
      "application/vnd.microsoft.datawrangler.viewer.v0+json": {
       "columns": [
        {
         "name": "index",
         "rawType": "object",
         "type": "string"
        },
        {
         "name": "scan_age",
         "rawType": "float64",
         "type": "float"
        }
       ],
       "ref": "b1dfc4a9-99f1-45ee-a18c-0f11e9438904",
       "rows": [
        [
         "count",
         "2882.0"
        ],
        [
         "mean",
         "15.427753927254452"
        ],
        [
         "std",
         "5.778836817291233"
        ],
        [
         "min",
         "3.25"
        ],
        [
         "25%",
         "10.632602742500001"
        ],
        [
         "50%",
         "14.888227"
        ],
        [
         "75%",
         "20.0"
        ],
        [
         "max",
         "30.0"
        ]
       ],
       "shape": {
        "columns": 1,
        "rows": 8
       }
      },
      "text/plain": [
       "count    2882.000000\n",
       "mean       15.427754\n",
       "std         5.778837\n",
       "min         3.250000\n",
       "25%        10.632603\n",
       "50%        14.888227\n",
       "75%        20.000000\n",
       "max        30.000000\n",
       "Name: scan_age, dtype: float64"
      ]
     },
     "execution_count": 12,
     "metadata": {},
     "output_type": "execute_result"
    }
   ],
   "source": [
    "df.scan_age.describe()"
   ]
  },
  {
   "cell_type": "code",
   "execution_count": 13,
   "id": "f65d6a6e",
   "metadata": {},
   "outputs": [],
   "source": [
    "# Create 3-year age brackets from 3 to 30\n",
    "bins = list(range(3, 31, 3)) + [31]  # [5, 8, 11, ..., 29, 31]\n",
    "labels = [f\"{bins[i]}-{bins[i+1]-1}\" for i in range(len(bins)-1)]\n",
    "df['age_bracket'] = pd.cut(df['scan_age'], bins=bins, labels=labels, right=False, include_lowest=True)"
   ]
  },
  {
   "cell_type": "code",
   "execution_count": 14,
   "id": "a2e460fd",
   "metadata": {},
   "outputs": [],
   "source": [
    "df['age_bracket_class'] = df['age_bracket'].cat.codes"
   ]
  },
  {
   "cell_type": "code",
   "execution_count": 15,
   "id": "7009d3cf",
   "metadata": {},
   "outputs": [
    {
     "data": {
      "application/vnd.microsoft.datawrangler.viewer.v0+json": {
       "columns": [
        {
         "name": "index",
         "rawType": "object",
         "type": "string"
        },
        {
         "name": "age_bracket_class",
         "rawType": "float64",
         "type": "float"
        }
       ],
       "ref": "797155e3-499d-4298-9024-fe2c4e5696a3",
       "rows": [
        [
         "count",
         "2882.0"
        ],
        [
         "mean",
         "3.6991672449687716"
        ],
        [
         "std",
         "1.9752176846002991"
        ],
        [
         "min",
         "0.0"
        ],
        [
         "25%",
         "2.0"
        ],
        [
         "50%",
         "3.0"
        ],
        [
         "75%",
         "5.0"
        ],
        [
         "max",
         "9.0"
        ]
       ],
       "shape": {
        "columns": 1,
        "rows": 8
       }
      },
      "text/plain": [
       "count    2882.000000\n",
       "mean        3.699167\n",
       "std         1.975218\n",
       "min         0.000000\n",
       "25%         2.000000\n",
       "50%         3.000000\n",
       "75%         5.000000\n",
       "max         9.000000\n",
       "Name: age_bracket_class, dtype: float64"
      ]
     },
     "execution_count": 15,
     "metadata": {},
     "output_type": "execute_result"
    }
   ],
   "source": [
    "df['age_bracket_class'].describe()"
   ]
  },
  {
   "cell_type": "code",
   "execution_count": 16,
   "id": "0973b2d9",
   "metadata": {},
   "outputs": [
    {
     "data": {
      "application/vnd.microsoft.datawrangler.viewer.v0+json": {
       "columns": [
        {
         "name": "age_bracket",
         "rawType": "category",
         "type": "unknown"
        },
        {
         "name": "count",
         "rawType": "int64",
         "type": "integer"
        }
       ],
       "ref": "ee9f06b4-c5ad-42d0-8a04-a29c1865fa7d",
       "rows": [
        [
         "9-11",
         "597"
        ],
        [
         "18-20",
         "507"
        ],
        [
         "12-14",
         "481"
        ],
        [
         "21-23",
         "368"
        ],
        [
         "15-17",
         "326"
        ],
        [
         "6-8",
         "304"
        ],
        [
         "24-26",
         "138"
        ],
        [
         "27-29",
         "76"
        ],
        [
         "3-5",
         "74"
        ],
        [
         "30-30",
         "11"
        ]
       ],
       "shape": {
        "columns": 1,
        "rows": 10
       }
      },
      "text/plain": [
       "age_bracket\n",
       "9-11     597\n",
       "18-20    507\n",
       "12-14    481\n",
       "21-23    368\n",
       "15-17    326\n",
       "6-8      304\n",
       "24-26    138\n",
       "27-29     76\n",
       "3-5       74\n",
       "30-30     11\n",
       "Name: count, dtype: int64"
      ]
     },
     "execution_count": 16,
     "metadata": {},
     "output_type": "execute_result"
    }
   ],
   "source": [
    "df['age_bracket'].value_counts()"
   ]
  },
  {
   "cell_type": "code",
   "execution_count": 17,
   "id": "be6fc47e",
   "metadata": {},
   "outputs": [
    {
     "data": {
      "application/vnd.microsoft.datawrangler.viewer.v0+json": {
       "columns": [
        {
         "name": "index",
         "rawType": "int64",
         "type": "integer"
        },
        {
         "name": "age_bracket",
         "rawType": "category",
         "type": "unknown"
        },
        {
         "name": "age_bracket_class",
         "rawType": "int8",
         "type": "integer"
        },
        {
         "name": "scan_age",
         "rawType": "float64",
         "type": "float"
        }
       ],
       "ref": "162ee16e-def3-4daf-9c5b-b03f2eaead7e",
       "rows": [
        [
         "2318",
         "6-8",
         "1",
         "7.333333333333333"
        ],
        [
         "497",
         "12-14",
         "3",
         "14.425"
        ],
        [
         "1062",
         "18-20",
         "5",
         "19.0"
        ],
        [
         "51",
         "9-11",
         "2",
         "9.961898"
        ],
        [
         "2485",
         "21-23",
         "6",
         "22.0"
        ]
       ],
       "shape": {
        "columns": 3,
        "rows": 5
       }
      },
      "text/html": [
       "<div>\n",
       "<style scoped>\n",
       "    .dataframe tbody tr th:only-of-type {\n",
       "        vertical-align: middle;\n",
       "    }\n",
       "\n",
       "    .dataframe tbody tr th {\n",
       "        vertical-align: top;\n",
       "    }\n",
       "\n",
       "    .dataframe thead th {\n",
       "        text-align: right;\n",
       "    }\n",
       "</style>\n",
       "<table border=\"1\" class=\"dataframe\">\n",
       "  <thead>\n",
       "    <tr style=\"text-align: right;\">\n",
       "      <th></th>\n",
       "      <th>age_bracket</th>\n",
       "      <th>age_bracket_class</th>\n",
       "      <th>scan_age</th>\n",
       "    </tr>\n",
       "  </thead>\n",
       "  <tbody>\n",
       "    <tr>\n",
       "      <th>2318</th>\n",
       "      <td>6-8</td>\n",
       "      <td>1</td>\n",
       "      <td>7.333333</td>\n",
       "    </tr>\n",
       "    <tr>\n",
       "      <th>497</th>\n",
       "      <td>12-14</td>\n",
       "      <td>3</td>\n",
       "      <td>14.425000</td>\n",
       "    </tr>\n",
       "    <tr>\n",
       "      <th>1062</th>\n",
       "      <td>18-20</td>\n",
       "      <td>5</td>\n",
       "      <td>19.000000</td>\n",
       "    </tr>\n",
       "    <tr>\n",
       "      <th>51</th>\n",
       "      <td>9-11</td>\n",
       "      <td>2</td>\n",
       "      <td>9.961898</td>\n",
       "    </tr>\n",
       "    <tr>\n",
       "      <th>2485</th>\n",
       "      <td>21-23</td>\n",
       "      <td>6</td>\n",
       "      <td>22.000000</td>\n",
       "    </tr>\n",
       "  </tbody>\n",
       "</table>\n",
       "</div>"
      ],
      "text/plain": [
       "     age_bracket  age_bracket_class   scan_age\n",
       "2318         6-8                  1   7.333333\n",
       "497        12-14                  3  14.425000\n",
       "1062       18-20                  5  19.000000\n",
       "51          9-11                  2   9.961898\n",
       "2485       21-23                  6  22.000000"
      ]
     },
     "execution_count": 17,
     "metadata": {},
     "output_type": "execute_result"
    }
   ],
   "source": [
    "df[['age_bracket', 'age_bracket_class', 'scan_age']].sample(5)"
   ]
  },
  {
   "cell_type": "code",
   "execution_count": 18,
   "id": "f1d53b97",
   "metadata": {},
   "outputs": [
    {
     "data": {
      "application/vnd.microsoft.datawrangler.viewer.v0+json": {
       "columns": [
        {
         "name": "index",
         "rawType": "int64",
         "type": "integer"
        },
        {
         "name": "scan_id",
         "rawType": "object",
         "type": "string"
        },
        {
         "name": "dataset",
         "rawType": "object",
         "type": "string"
        },
        {
         "name": "sex",
         "rawType": "object",
         "type": "string"
        },
        {
         "name": "scan_age",
         "rawType": "float64",
         "type": "float"
        },
        {
         "name": "filename",
         "rawType": "object",
         "type": "string"
        },
        {
         "name": "scan_id_",
         "rawType": "object",
         "type": "string"
        },
        {
         "name": "project",
         "rawType": "object",
         "type": "string"
        },
        {
         "name": "split",
         "rawType": "object",
         "type": "string"
        },
        {
         "name": "age_bracket",
         "rawType": "category",
         "type": "unknown"
        },
        {
         "name": "age_bracket_class",
         "rawType": "int8",
         "type": "integer"
        }
       ],
       "ref": "cfaae81d-1f76-4213-807f-f1be9c1f286c",
       "rows": [
        [
         "519",
         "0051136",
         "ABIDE",
         "Male",
         "12.66",
         "ABIDE-Trinity-sub-0051136.nii.gz",
         "ABIDE-Trinity-sub-0051136",
         "ABIDE",
         "TRAINING",
         "12-14",
         "3"
        ],
        [
         "429",
         "0050428",
         "ABIDE",
         "Male",
         "15.5",
         "ABIDE-UM2-sub-0050428.nii.gz",
         "ABIDE-UM2-sub-0050428",
         "ABIDE",
         "TRAINING",
         "15-17",
         "4"
        ],
        [
         "2543",
         "0025843",
         "CORR",
         "Female",
         "21.0",
         "CORR-SWU4-sub-0025843.nii.gz",
         "CORR-SWU4-sub-0025843",
         "CORR",
         "TRAINING",
         "21-23",
         "6"
        ],
        [
         "1793",
         "28842",
         "ABIDE II",
         "Male",
         "8.408219178",
         "ABIDE2-GU1-sub-28842.nii.gz",
         "ABIDE2-GU1-sub-28842",
         "ABIDE2",
         "TRAINING",
         "6-8",
         "1"
        ],
        [
         "1982",
         "P0863",
         "PING",
         "Male",
         "20.75",
         "PING-sub-P0863.nii.gz",
         "PING-sub-P0863",
         "PING",
         "TRAINING",
         "18-20",
         "5"
        ]
       ],
       "shape": {
        "columns": 10,
        "rows": 5
       }
      },
      "text/html": [
       "<div>\n",
       "<style scoped>\n",
       "    .dataframe tbody tr th:only-of-type {\n",
       "        vertical-align: middle;\n",
       "    }\n",
       "\n",
       "    .dataframe tbody tr th {\n",
       "        vertical-align: top;\n",
       "    }\n",
       "\n",
       "    .dataframe thead th {\n",
       "        text-align: right;\n",
       "    }\n",
       "</style>\n",
       "<table border=\"1\" class=\"dataframe\">\n",
       "  <thead>\n",
       "    <tr style=\"text-align: right;\">\n",
       "      <th></th>\n",
       "      <th>scan_id</th>\n",
       "      <th>dataset</th>\n",
       "      <th>sex</th>\n",
       "      <th>scan_age</th>\n",
       "      <th>filename</th>\n",
       "      <th>scan_id_</th>\n",
       "      <th>project</th>\n",
       "      <th>split</th>\n",
       "      <th>age_bracket</th>\n",
       "      <th>age_bracket_class</th>\n",
       "    </tr>\n",
       "  </thead>\n",
       "  <tbody>\n",
       "    <tr>\n",
       "      <th>519</th>\n",
       "      <td>0051136</td>\n",
       "      <td>ABIDE</td>\n",
       "      <td>Male</td>\n",
       "      <td>12.660000</td>\n",
       "      <td>ABIDE-Trinity-sub-0051136.nii.gz</td>\n",
       "      <td>ABIDE-Trinity-sub-0051136</td>\n",
       "      <td>ABIDE</td>\n",
       "      <td>TRAINING</td>\n",
       "      <td>12-14</td>\n",
       "      <td>3</td>\n",
       "    </tr>\n",
       "    <tr>\n",
       "      <th>429</th>\n",
       "      <td>0050428</td>\n",
       "      <td>ABIDE</td>\n",
       "      <td>Male</td>\n",
       "      <td>15.500000</td>\n",
       "      <td>ABIDE-UM2-sub-0050428.nii.gz</td>\n",
       "      <td>ABIDE-UM2-sub-0050428</td>\n",
       "      <td>ABIDE</td>\n",
       "      <td>TRAINING</td>\n",
       "      <td>15-17</td>\n",
       "      <td>4</td>\n",
       "    </tr>\n",
       "    <tr>\n",
       "      <th>2543</th>\n",
       "      <td>0025843</td>\n",
       "      <td>CORR</td>\n",
       "      <td>Female</td>\n",
       "      <td>21.000000</td>\n",
       "      <td>CORR-SWU4-sub-0025843.nii.gz</td>\n",
       "      <td>CORR-SWU4-sub-0025843</td>\n",
       "      <td>CORR</td>\n",
       "      <td>TRAINING</td>\n",
       "      <td>21-23</td>\n",
       "      <td>6</td>\n",
       "    </tr>\n",
       "    <tr>\n",
       "      <th>1793</th>\n",
       "      <td>28842</td>\n",
       "      <td>ABIDE II</td>\n",
       "      <td>Male</td>\n",
       "      <td>8.408219</td>\n",
       "      <td>ABIDE2-GU1-sub-28842.nii.gz</td>\n",
       "      <td>ABIDE2-GU1-sub-28842</td>\n",
       "      <td>ABIDE2</td>\n",
       "      <td>TRAINING</td>\n",
       "      <td>6-8</td>\n",
       "      <td>1</td>\n",
       "    </tr>\n",
       "    <tr>\n",
       "      <th>1982</th>\n",
       "      <td>P0863</td>\n",
       "      <td>PING</td>\n",
       "      <td>Male</td>\n",
       "      <td>20.750000</td>\n",
       "      <td>PING-sub-P0863.nii.gz</td>\n",
       "      <td>PING-sub-P0863</td>\n",
       "      <td>PING</td>\n",
       "      <td>TRAINING</td>\n",
       "      <td>18-20</td>\n",
       "      <td>5</td>\n",
       "    </tr>\n",
       "  </tbody>\n",
       "</table>\n",
       "</div>"
      ],
      "text/plain": [
       "      scan_id   dataset     sex   scan_age                          filename  \\\n",
       "519   0051136     ABIDE    Male  12.660000  ABIDE-Trinity-sub-0051136.nii.gz   \n",
       "429   0050428     ABIDE    Male  15.500000      ABIDE-UM2-sub-0050428.nii.gz   \n",
       "2543  0025843      CORR  Female  21.000000      CORR-SWU4-sub-0025843.nii.gz   \n",
       "1793    28842  ABIDE II    Male   8.408219       ABIDE2-GU1-sub-28842.nii.gz   \n",
       "1982    P0863      PING    Male  20.750000             PING-sub-P0863.nii.gz   \n",
       "\n",
       "                       scan_id_ project     split age_bracket  \\\n",
       "519   ABIDE-Trinity-sub-0051136   ABIDE  TRAINING       12-14   \n",
       "429       ABIDE-UM2-sub-0050428   ABIDE  TRAINING       15-17   \n",
       "2543      CORR-SWU4-sub-0025843    CORR  TRAINING       21-23   \n",
       "1793       ABIDE2-GU1-sub-28842  ABIDE2  TRAINING         6-8   \n",
       "1982             PING-sub-P0863    PING  TRAINING       18-20   \n",
       "\n",
       "      age_bracket_class  \n",
       "519                   3  \n",
       "429                   4  \n",
       "2543                  6  \n",
       "1793                  1  \n",
       "1982                  5  "
      ]
     },
     "execution_count": 18,
     "metadata": {},
     "output_type": "execute_result"
    }
   ],
   "source": [
    "df.sample(5)"
   ]
  },
  {
   "cell_type": "code",
   "execution_count": 19,
   "id": "91571164",
   "metadata": {},
   "outputs": [
    {
     "name": "stdout",
     "output_type": "stream",
     "text": [
      " Train N: 2312 | Validation N: 570\n"
     ]
    }
   ],
   "source": [
    "# Save train and validation filenames into list\n",
    "train = df[df['split'] == 'TRAINING']\n",
    "validation = df[df['split'] == 'VALIDATE']\n",
    "train_ids = train['filename'].to_list()\n",
    "validation_ids = validation['filename'].to_list()\n",
    "\n",
    "print(f\" Train N: {len(train_ids)} | Validation N: {len(validation_ids)}\") "
   ]
  },
  {
   "cell_type": "code",
   "execution_count": 20,
   "id": "9f0efea2",
   "metadata": {},
   "outputs": [
    {
     "name": "stdout",
     "output_type": "stream",
     "text": [
      "2312\n"
     ]
    }
   ],
   "source": [
    "!ls /home/murage/Documents/data/train/ | wc -l"
   ]
  },
  {
   "cell_type": "code",
   "execution_count": 21,
   "id": "eaabfe81",
   "metadata": {},
   "outputs": [
    {
     "name": "stdout",
     "output_type": "stream",
     "text": [
      "570\n"
     ]
    }
   ],
   "source": [
    "!ls /home/murage/Documents/data/validation/ | wc -l"
   ]
  },
  {
   "cell_type": "code",
   "execution_count": 22,
   "id": "a6ef581c",
   "metadata": {},
   "outputs": [],
   "source": [
    "train = train[['filename', 'scan_age', 'sex', 'age_bracket_class', 'project']]\n",
    "validation = validation[['filename', 'scan_age', 'sex', 'age_bracket_class', 'project']]"
   ]
  },
  {
   "cell_type": "code",
   "execution_count": 23,
   "id": "bff33e17",
   "metadata": {},
   "outputs": [
    {
     "data": {
      "image/png": "[encoded data removed]",
      "text/plain": [
       "<Figure size 1000x400 with 2 Axes>"
      ]
     },
     "metadata": {},
     "output_type": "display_data"
    }
   ],
   "source": [
    "fig, (ax1, ax2) = plt.subplots(1, 2, figsize=(10, 4), sharex=True, sharey=True)\n",
    "sns.histplot(train['age_bracket_class'], ax=ax1)\n",
    "sns.histplot(validation['age_bracket_class'], ax=ax2)\n",
    "plt.show()"
   ]
  },
  {
   "cell_type": "code",
   "execution_count": 24,
   "id": "67bba67d",
   "metadata": {},
   "outputs": [
    {
     "data": {
      "application/vnd.microsoft.datawrangler.viewer.v0+json": {
       "columns": [
        {
         "name": "index",
         "rawType": "int64",
         "type": "integer"
        },
        {
         "name": "filename",
         "rawType": "object",
         "type": "string"
        },
        {
         "name": "scan_age",
         "rawType": "float64",
         "type": "float"
        },
        {
         "name": "sex",
         "rawType": "object",
         "type": "string"
        },
        {
         "name": "age_bracket_class",
         "rawType": "int8",
         "type": "integer"
        },
        {
         "name": "project",
         "rawType": "object",
         "type": "string"
        }
       ],
       "ref": "8679a518-d1cb-4103-a2dd-7ba05da3a0d9",
       "rows": [
        [
         "2407",
         "CORR-BNU1-sub-0025898.nii.gz",
         "22.0",
         "Female",
         "6",
         "CORR"
        ]
       ],
       "shape": {
        "columns": 5,
        "rows": 1
       }
      },
      "text/html": [
       "<div>\n",
       "<style scoped>\n",
       "    .dataframe tbody tr th:only-of-type {\n",
       "        vertical-align: middle;\n",
       "    }\n",
       "\n",
       "    .dataframe tbody tr th {\n",
       "        vertical-align: top;\n",
       "    }\n",
       "\n",
       "    .dataframe thead th {\n",
       "        text-align: right;\n",
       "    }\n",
       "</style>\n",
       "<table border=\"1\" class=\"dataframe\">\n",
       "  <thead>\n",
       "    <tr style=\"text-align: right;\">\n",
       "      <th></th>\n",
       "      <th>filename</th>\n",
       "      <th>scan_age</th>\n",
       "      <th>sex</th>\n",
       "      <th>age_bracket_class</th>\n",
       "      <th>project</th>\n",
       "    </tr>\n",
       "  </thead>\n",
       "  <tbody>\n",
       "    <tr>\n",
       "      <th>2407</th>\n",
       "      <td>CORR-BNU1-sub-0025898.nii.gz</td>\n",
       "      <td>22.0</td>\n",
       "      <td>Female</td>\n",
       "      <td>6</td>\n",
       "      <td>CORR</td>\n",
       "    </tr>\n",
       "  </tbody>\n",
       "</table>\n",
       "</div>"
      ],
      "text/plain": [
       "                          filename  scan_age     sex  age_bracket_class  \\\n",
       "2407  CORR-BNU1-sub-0025898.nii.gz      22.0  Female                  6   \n",
       "\n",
       "     project  \n",
       "2407    CORR  "
      ]
     },
     "execution_count": 24,
     "metadata": {},
     "output_type": "execute_result"
    }
   ],
   "source": [
    "train.sample()"
   ]
  },
  {
   "cell_type": "code",
   "execution_count": 25,
   "id": "1b8f9ba0",
   "metadata": {},
   "outputs": [
    {
     "data": {
      "application/vnd.microsoft.datawrangler.viewer.v0+json": {
       "columns": [
        {
         "name": "age_bracket_class",
         "rawType": "int8",
         "type": "integer"
        },
        {
         "name": "count",
         "rawType": "int64",
         "type": "integer"
        }
       ],
       "ref": "c5495ca4-549c-425f-983c-ce322b661c7d",
       "rows": [
        [
         "2",
         "474"
        ],
        [
         "5",
         "408"
        ],
        [
         "3",
         "391"
        ],
        [
         "6",
         "291"
        ],
        [
         "4",
         "261"
        ],
        [
         "1",
         "243"
        ],
        [
         "7",
         "112"
        ],
        [
         "8",
         "62"
        ],
        [
         "0",
         "59"
        ],
        [
         "9",
         "11"
        ]
       ],
       "shape": {
        "columns": 1,
        "rows": 10
       }
      },
      "text/plain": [
       "age_bracket_class\n",
       "2    474\n",
       "5    408\n",
       "3    391\n",
       "6    291\n",
       "4    261\n",
       "1    243\n",
       "7    112\n",
       "8     62\n",
       "0     59\n",
       "9     11\n",
       "Name: count, dtype: int64"
      ]
     },
     "execution_count": 25,
     "metadata": {},
     "output_type": "execute_result"
    }
   ],
   "source": [
    "train.age_bracket_class.value_counts()"
   ]
  },
  {
   "cell_type": "code",
   "execution_count": 26,
   "id": "1af6c4d5",
   "metadata": {},
   "outputs": [
    {
     "data": {
      "image/png": "[encoded data removed]",
      "text/plain": [
       "<Figure size 750x500 with 1 Axes>"
      ]
     },
     "metadata": {},
     "output_type": "display_data"
    }
   ],
   "source": [
    "g = sns.displot(\n",
    "    train['age_bracket_class'],\n",
    "    kde=True,\n",
    "    color=\"royalblue\",\n",
    "    height=5,\n",
    "    aspect=1.5\n",
    ")\n",
    "g.set_axis_labels(\"Age Bracket\", \"Count\")\n",
    "plt.xticks(rotation=90)\n",
    "#plt.title(\"Chronological Age\")\n",
    "plt.tight_layout()\n",
    "plt.show()"
   ]
  },
  {
   "cell_type": "markdown",
   "id": "5204d801",
   "metadata": {},
   "source": [
    "#### Balance classes in each batch"
   ]
  },
  {
   "cell_type": "code",
   "execution_count": 27,
   "id": "81ffbada",
   "metadata": {},
   "outputs": [],
   "source": [
    "class_counts = np.bincount(train['age_bracket_class'])\n",
    "class_weights = 1. / class_counts\n",
    "sample_weights = [class_weights[c] for c in train['age_bracket_class']]"
   ]
  },
  {
   "cell_type": "code",
   "execution_count": 28,
   "id": "d9ca818c",
   "metadata": {},
   "outputs": [],
   "source": [
    "\n",
    "sampler = WeightedRandomSampler(\n",
    "    weights=sample_weights,\n",
    "    num_samples=len(sample_weights),\n",
    "    replacement=True\n",
    ")"
   ]
  },
  {
   "cell_type": "code",
   "execution_count": 29,
   "id": "7d64eecf",
   "metadata": {},
   "outputs": [
    {
     "data": {
      "text/plain": [
       "2312"
      ]
     },
     "execution_count": 29,
     "metadata": {},
     "output_type": "execute_result"
    }
   ],
   "source": [
    "len(sample_weights)"
   ]
  },
  {
   "cell_type": "markdown",
   "id": "c5902cd7",
   "metadata": {},
   "source": [
    "#### Train DataLoader"
   ]
  },
  {
   "cell_type": "code",
   "execution_count": 30,
   "id": "761d70ac",
   "metadata": {},
   "outputs": [],
   "source": [
    "train_dataset = MRIDataset(df=train, id_col='filename', agebracket='age_bracket_class', target_col='scan_age', root_dir=train_data_directory)\n",
    "validation_dataset = MRIDataset(df=validation, id_col='filename', agebracket='age_bracket_class', target_col='scan_age', root_dir=validation_data_directory)"
   ]
  },
  {
   "cell_type": "code",
   "execution_count": 31,
   "id": "34ba47c3",
   "metadata": {},
   "outputs": [
    {
     "name": "stdout",
     "output_type": "stream",
     "text": [
      "Index: 0, 2, Image shape: torch.Size([1, 121, 145, 121]), Label: tensor([9.4884])\n",
      "Index: 1, 2, Image shape: torch.Size([1, 121, 145, 121]), Label: tensor([11.8236])\n",
      "Index: 2, 4, Image shape: torch.Size([1, 121, 145, 121]), Label: tensor([16.4967])\n",
      "Index: 3, 3, Image shape: torch.Size([1, 121, 145, 121]), Label: tensor([13.4637])\n",
      "Index: 4, 3, Image shape: torch.Size([1, 121, 145, 121]), Label: tensor([12.9977])\n"
     ]
    }
   ],
   "source": [
    "for i in range(5):\n",
    "    try:\n",
    "        image, agebracket, label = train_dataset[i]\n",
    "        print(f\"Index: {i}, {agebracket}, Image shape: {image.shape if hasattr(image, 'shape') else type(image)}, Label: {label}\")\n",
    "    except KeyError:\n",
    "        print(f\"Index: {i}, {agebracket}, Image shape: {image.shape if hasattr(image, 'shape') else type(image)}, Label: {label}\")\n",
    "        #print(f\"Index {i}: not found\")"
   ]
  },
  {
   "cell_type": "code",
   "execution_count": 32,
   "id": "3a385b63",
   "metadata": {},
   "outputs": [],
   "source": [
    "train_dataloader = DataLoader(train_dataset, batch_size=4, sampler=sampler, pin_memory=True) #shuffle=True,\n",
    "validation_dataloader = DataLoader(validation_dataset, batch_size=4, shuffle=False)"
   ]
  },
  {
   "cell_type": "code",
   "execution_count": 33,
   "id": "48dfa12b",
   "metadata": {},
   "outputs": [],
   "source": [
    "optimizer = torch.optim.Adam(model.parameters(), lr=0.001)"
   ]
  },
  {
   "cell_type": "code",
   "execution_count": 34,
   "id": "feab0dd1",
   "metadata": {},
   "outputs": [],
   "source": [
    "#cnnmodel, tracking_loss = train_and_select_best_model(model=model, train_dataloader=train_dataloader, \n",
    "#                    validation_dataloader=validation_dataloader, optimizer=optimizer, loss=mae, device=device, num_epochs=20, name='cnn')"
   ]
  },
  {
   "cell_type": "code",
   "execution_count": 35,
   "id": "a85748fe",
   "metadata": {},
   "outputs": [
    {
     "name": "stdout",
     "output_type": "stream",
     "text": [
      "torch.Size([4, 1, 121, 145, 121]), tensor([0, 2, 4, 1], dtype=torch.int8): tensor([[ 5.2500],\n",
      "        [11.5500],\n",
      "        [15.4017],\n",
      "        [ 6.4167]])\n"
     ]
    }
   ],
   "source": [
    "image, agebracket, label = next(iter(train_dataloader))\n",
    "print(f'{image.shape}, {agebracket}: {label}')"
   ]
  },
  {
   "cell_type": "code",
   "execution_count": 36,
   "id": "f47ad463",
   "metadata": {},
   "outputs": [],
   "source": [
    "def accuracy_fn(y_true, y_pred):\n",
    "    correct = torch.eq(y_true, y_pred).sum().item() # torch.eq() calculates where two tensors are equal\n",
    "    acc = (correct / y_true.size(0)) * 100 \n",
    "    return acc\n"
   ]
  },
  {
   "cell_type": "code",
   "execution_count": 37,
   "id": "210b0d6c",
   "metadata": {},
   "outputs": [
    {
     "data": {
      "application/vnd.jupyter.widget-view+json": {
       "model_id": "59add291d95f40d78a0de4394ad3f900",
       "version_major": 2,
       "version_minor": 0
      },
      "text/plain": [
       "  0%|          | 0/15 [00:00<?, ?it/s]"
      ]
     },
     "metadata": {},
     "output_type": "display_data"
    },
    {
     "name": "stdout",
     "output_type": "stream",
     "text": [
      "Epoch 1/15:\n",
      " -----------\n",
      "Train loss (acc): 6.98 (9.99%) | l2: 2.31\n",
      "Val Loss (acc): 15.30, (20.98%) | l2: 2.28 \n",
      "Model saved with validation MAE: 15.3044, accuracy: 20.9790% \n",
      "Epoch 2/15:\n",
      " -----------\n",
      "Train loss (acc): 6.13 (9.90%) | l2: 2.31\n",
      "Val Loss (acc): 3.89, (20.45%) | l2: 2.29 \n",
      "Model saved with validation MAE: 3.8898, accuracy: 20.4545% \n",
      "Epoch 3/15:\n",
      " -----------\n",
      "Train loss (acc): 6.03 (9.13%) | l2: 2.31\n",
      "Val Loss (acc): 8.90, (18.53%) | l2: 2.29 \n",
      "Epoch 4/15:\n",
      " -----------\n",
      "Train loss (acc): 5.41 (9.13%) | l2: 2.31\n",
      "Val Loss (acc): 2.92, (14.69%) | l2: 2.29 \n",
      "Model saved with validation MAE: 2.9239, accuracy: 14.6853% \n",
      "Epoch 5/15:\n",
      " -----------\n",
      "Train loss (acc): 5.34 (10.21%) | l2: 2.31\n",
      "Val Loss (acc): 6.28, (8.57%) | l2: 2.29 \n",
      "Epoch 6/15:\n",
      " -----------\n",
      "Train loss (acc): 5.11 (9.30%) | l2: 2.31\n",
      "Val Loss (acc): 11.22, (16.96%) | l2: 2.30 \n",
      "Epoch 7/15:\n",
      " -----------\n",
      "Train loss (acc): 4.93 (11.20%) | l2: 2.30\n",
      "Val Loss (acc): 7.39, (13.81%) | l2: 2.29 \n",
      "Epoch 8/15:\n",
      " -----------\n",
      "Train loss (acc): 4.80 (10.47%) | l2: 2.31\n",
      "Val Loss (acc): 6.73, (24.30%) | l2: 2.28 \n",
      "Epoch 9/15:\n",
      " -----------\n",
      "Train loss (acc): 4.84 (10.68%) | l2: 2.30\n",
      "Val Loss (acc): 4.27, (20.80%) | l2: 2.29 \n",
      "Epoch 10/15:\n",
      " -----------\n",
      "Train loss (acc): 4.58 (9.52%) | l2: 2.31\n",
      "Val Loss (acc): 8.85, (16.26%) | l2: 2.29 \n",
      "Epoch 11/15:\n",
      " -----------\n",
      "Train loss (acc): 4.51 (10.86%) | l2: 2.30\n",
      "Val Loss (acc): 7.53, (21.68%) | l2: 2.29 \n",
      "Epoch 12/15:\n",
      " -----------\n",
      "Train loss (acc): 4.39 (10.68%) | l2: 2.30\n",
      "Val Loss (acc): 3.63, (2.45%) | l2: 2.30 \n",
      "Epoch 13/15:\n",
      " -----------\n",
      "Train loss (acc): 4.43 (10.08%) | l2: 2.30\n",
      "Val Loss (acc): 9.97, (2.45%) | l2: 2.30 \n",
      "Epoch 14/15:\n",
      " -----------\n",
      "Train loss (acc): 4.41 (9.52%) | l2: 2.30\n",
      "Val Loss (acc): 5.80, (2.45%) | l2: 2.31 \n",
      "Epoch 15/15:\n",
      " -----------\n",
      "Train loss (acc): 4.29 (10.38%) | l2: 2.30\n",
      "Val Loss (acc): 8.90, (2.45%) | l2: 2.31 \n"
     ]
    }
   ],
   "source": [
    "num_epochs=15\n",
    "model, tracking_loss, tracking_val_loss = train_classifiermodel(\n",
    "    model=model, train_dataloader=train_dataloader, validation_dataloader=validation_dataloader, optimizer=optimizer,\n",
    "    device=device, num_epochs=num_epochs, name='cnmlp'\n",
    ")"
   ]
  },
  {
   "cell_type": "code",
   "execution_count": 38,
   "id": "c6b40f41",
   "metadata": {},
   "outputs": [
    {
     "data": {
      "image/png": "[encoded data removed]",
      "text/plain": [
       "<Figure size 640x480 with 1 Axes>"
      ]
     },
     "metadata": {},
     "output_type": "display_data"
    }
   ],
   "source": [
    "plt.plot(range(1, num_epochs + 1), tracking_loss, label=\"Training loss\")\n",
    "plt.plot(range(1, num_epochs + 1), tracking_val_loss, label=\"Validation loss\")\n",
    "plt.xlabel(\"Number of epochs\")\n",
    "plt.ylabel(\"Loss\")\n",
    "plt.legend(loc = \"upper right\")\n",
    "plt.show()"
   ]
  },
  {
   "cell_type": "code",
   "execution_count": null,
   "id": "93e39e87",
   "metadata": {},
   "outputs": [],
   "source": []
  }
 ],
 "metadata": {
  "kernelspec": {
   "display_name": "venv",
   "language": "python",
   "name": "python3"
  },
  "language_info": {
   "codemirror_mode": {
    "name": "ipython",
    "version": 3
   },
   "file_extension": ".py",
   "mimetype": "text/x-python",
   "name": "python",
   "nbconvert_exporter": "python",
   "pygments_lexer": "ipython3",
   "version": "3.12.3"
  }
 },
 "nbformat": 4,
 "nbformat_minor": 5
}
